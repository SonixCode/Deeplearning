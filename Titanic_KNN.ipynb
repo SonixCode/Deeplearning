{
 "cells": [
  {
   "cell_type": "markdown",
   "metadata": {},
   "source": [
    "# Vorhersage des Überlebens der Titanic\n",
    "Dieses Notebook bietet eine grundlegende Einführung in maschinelles Lernen anhand des Titanic-Datensatzes. Wir werden die Daten laden, eine explorative Datenanalyse durchführen, die Daten vorverarbeiten und schließlich ein einfaches maschinelles Lernmodell trainieren, um das Überleben auf der Titanic vorherzusagen."
   ],
   "id": "f6a4f2823f266820"
  },
  {
   "cell_type": "markdown",
   "metadata": {},
   "source": [
    "## 1. Installing Libraries\n",
    "Wir beginnen mit dem Installieren der erforderlichen Python-Bibliotheken.\n",
    "Sie können folgende Befehl kopieren:\n",
    "\n",
    "\n",
    "\n",
    "1.  pip install pandas\n",
    "2.  pip install matplotlib\n",
    "3.  pip install seaborn\n",
    "4.  pip install scikit-learn"
   ],
   "id": "a037d3f6a56fb59"
  },
  {
   "cell_type": "code",
   "metadata": {
    "ExecuteTime": {
     "end_time": "2024-10-22T17:59:30.783764Z",
     "start_time": "2024-10-22T17:59:30.776404Z"
    }
   },
   "source": [
    "import pandas as pd\n",
    "import numpy as np\n",
    "import matplotlib.pyplot as plt\n",
    "import seaborn as sns\n",
    "\n"
   ],
   "id": "cea8e300124649b4",
   "outputs": [],
   "execution_count": 259
  },
  {
   "cell_type": "markdown",
   "metadata": {},
   "source": [
    "## 2. Laden der Daten\n",
    "Wir laden sowohl die Trainings- als auch die Testdaten mithilfe von Pandas aus CSV-Dateien."
   ],
   "id": "551b3399f3fb710"
  },
  {
   "cell_type": "code",
   "metadata": {
    "ExecuteTime": {
     "end_time": "2024-10-22T17:59:30.891384Z",
     "start_time": "2024-10-22T17:59:30.854811Z"
    }
   },
   "source": [
    "# Load the datasets\n",
    "train_df = pd.read_csv('Data/train.csv')\n",
    "test_df = pd.read_csv('Data/test.csv')\n",
    "\n",
    "train_df.head()"
   ],
   "id": "58e774c2bafff59",
   "outputs": [
    {
     "data": {
      "text/plain": [
       "   PassengerId  Survived  Pclass  \\\n",
       "0            1         0       3   \n",
       "1            2         1       1   \n",
       "2            3         1       3   \n",
       "3            4         1       1   \n",
       "4            5         0       3   \n",
       "\n",
       "                                                Name     Sex   Age  SibSp  \\\n",
       "0                            Braund, Mr. Owen Harris    male  22.0      1   \n",
       "1  Cumings, Mrs. John Bradley (Florence Briggs Th...  female  38.0      1   \n",
       "2                             Heikkinen, Miss. Laina  female  26.0      0   \n",
       "3       Futrelle, Mrs. Jacques Heath (Lily May Peel)  female  35.0      1   \n",
       "4                           Allen, Mr. William Henry    male  35.0      0   \n",
       "\n",
       "   Parch            Ticket     Fare Cabin Embarked  \n",
       "0      0         A/5 21171   7.2500   NaN        S  \n",
       "1      0          PC 17599  71.2833   C85        C  \n",
       "2      0  STON/O2. 3101282   7.9250   NaN        S  \n",
       "3      0            113803  53.1000  C123        S  \n",
       "4      0            373450   8.0500   NaN        S  "
      ],
      "text/html": [
       "<div>\n",
       "<style scoped>\n",
       "    .dataframe tbody tr th:only-of-type {\n",
       "        vertical-align: middle;\n",
       "    }\n",
       "\n",
       "    .dataframe tbody tr th {\n",
       "        vertical-align: top;\n",
       "    }\n",
       "\n",
       "    .dataframe thead th {\n",
       "        text-align: right;\n",
       "    }\n",
       "</style>\n",
       "<table border=\"1\" class=\"dataframe\">\n",
       "  <thead>\n",
       "    <tr style=\"text-align: right;\">\n",
       "      <th></th>\n",
       "      <th>PassengerId</th>\n",
       "      <th>Survived</th>\n",
       "      <th>Pclass</th>\n",
       "      <th>Name</th>\n",
       "      <th>Sex</th>\n",
       "      <th>Age</th>\n",
       "      <th>SibSp</th>\n",
       "      <th>Parch</th>\n",
       "      <th>Ticket</th>\n",
       "      <th>Fare</th>\n",
       "      <th>Cabin</th>\n",
       "      <th>Embarked</th>\n",
       "    </tr>\n",
       "  </thead>\n",
       "  <tbody>\n",
       "    <tr>\n",
       "      <th>0</th>\n",
       "      <td>1</td>\n",
       "      <td>0</td>\n",
       "      <td>3</td>\n",
       "      <td>Braund, Mr. Owen Harris</td>\n",
       "      <td>male</td>\n",
       "      <td>22.0</td>\n",
       "      <td>1</td>\n",
       "      <td>0</td>\n",
       "      <td>A/5 21171</td>\n",
       "      <td>7.2500</td>\n",
       "      <td>NaN</td>\n",
       "      <td>S</td>\n",
       "    </tr>\n",
       "    <tr>\n",
       "      <th>1</th>\n",
       "      <td>2</td>\n",
       "      <td>1</td>\n",
       "      <td>1</td>\n",
       "      <td>Cumings, Mrs. John Bradley (Florence Briggs Th...</td>\n",
       "      <td>female</td>\n",
       "      <td>38.0</td>\n",
       "      <td>1</td>\n",
       "      <td>0</td>\n",
       "      <td>PC 17599</td>\n",
       "      <td>71.2833</td>\n",
       "      <td>C85</td>\n",
       "      <td>C</td>\n",
       "    </tr>\n",
       "    <tr>\n",
       "      <th>2</th>\n",
       "      <td>3</td>\n",
       "      <td>1</td>\n",
       "      <td>3</td>\n",
       "      <td>Heikkinen, Miss. Laina</td>\n",
       "      <td>female</td>\n",
       "      <td>26.0</td>\n",
       "      <td>0</td>\n",
       "      <td>0</td>\n",
       "      <td>STON/O2. 3101282</td>\n",
       "      <td>7.9250</td>\n",
       "      <td>NaN</td>\n",
       "      <td>S</td>\n",
       "    </tr>\n",
       "    <tr>\n",
       "      <th>3</th>\n",
       "      <td>4</td>\n",
       "      <td>1</td>\n",
       "      <td>1</td>\n",
       "      <td>Futrelle, Mrs. Jacques Heath (Lily May Peel)</td>\n",
       "      <td>female</td>\n",
       "      <td>35.0</td>\n",
       "      <td>1</td>\n",
       "      <td>0</td>\n",
       "      <td>113803</td>\n",
       "      <td>53.1000</td>\n",
       "      <td>C123</td>\n",
       "      <td>S</td>\n",
       "    </tr>\n",
       "    <tr>\n",
       "      <th>4</th>\n",
       "      <td>5</td>\n",
       "      <td>0</td>\n",
       "      <td>3</td>\n",
       "      <td>Allen, Mr. William Henry</td>\n",
       "      <td>male</td>\n",
       "      <td>35.0</td>\n",
       "      <td>0</td>\n",
       "      <td>0</td>\n",
       "      <td>373450</td>\n",
       "      <td>8.0500</td>\n",
       "      <td>NaN</td>\n",
       "      <td>S</td>\n",
       "    </tr>\n",
       "  </tbody>\n",
       "</table>\n",
       "</div>"
      ]
     },
     "execution_count": 260,
     "metadata": {},
     "output_type": "execute_result"
    }
   ],
   "execution_count": 260
  },
  {
   "cell_type": "markdown",
   "metadata": {},
   "source": [
    "## 3. Data Analysis\n",
    "Bevor wir ein Modell erstellen, untersuchen wir den Datensatz, um seine Struktur zu verstehen. Wir betrachten alle Merkmal, die für unsere Prädiktion sinnvoll/relevant sein können sind. Welche sind sinvoll ? welche nicht ? Nenne sie jeweils 2 "
   ],
   "id": "57dcd790739e0dd2"
  },
  {
   "cell_type": "code",
   "metadata": {
    "ExecuteTime": {
     "end_time": "2024-10-22T17:59:31.155141Z",
     "start_time": "2024-10-22T17:59:31.006174Z"
    }
   },
   "source": [
    "# Visualize survival counts\n",
    "sns.countplot(x='Survived', data=train_df)\n",
    "plt.title('Survival Count')\n",
    "plt.show()"
   ],
   "id": "58b2ca3c30ee571c",
   "outputs": [
    {
     "data": {
      "text/plain": [
       "<Figure size 640x480 with 1 Axes>"
      ],
      "image/png": "[encoded data removed]"
     },
     "metadata": {},
     "output_type": "display_data"
    }
   ],
   "execution_count": 261
  },
  {
   "cell_type": "code",
   "metadata": {
    "ExecuteTime": {
     "end_time": "2024-10-22T17:59:31.582898Z",
     "start_time": "2024-10-22T17:59:31.208733Z"
    }
   },
   "source": [
    "# Visualize survival by gender\n",
    "sns.catplot(x='Sex', hue='Survived', kind='count', data=train_df)\n",
    "plt.title('Survival by Gender')\n",
    "plt.show()"
   ],
   "id": "277d72cd89c2e88",
   "outputs": [
    {
     "data": {
      "text/plain": [
       "<Figure size 565.361x500 with 1 Axes>"
      ],
      "image/png": "[encoded data removed]"
     },
     "metadata": {},
     "output_type": "display_data"
    }
   ],
   "execution_count": 262
  },
  {
   "cell_type": "code",
   "metadata": {
    "ExecuteTime": {
     "end_time": "2024-10-22T17:59:32.013527Z",
     "start_time": "2024-10-22T17:59:31.601074Z"
    }
   },
   "source": [
    "# Visualize survival by passenger class\n",
    "sns.catplot(x='Pclass', hue='Survived', kind='count', data=train_df)\n",
    "plt.title('Survival by Passenger Class')\n",
    "plt.show()"
   ],
   "id": "c8ab5a087cf083ee",
   "outputs": [
    {
     "data": {
      "text/plain": [
       "<Figure size 565.361x500 with 1 Axes>"
      ],
      "image/png": "[encoded data removed]"
     },
     "metadata": {},
     "output_type": "display_data"
    }
   ],
   "execution_count": 263
  },
  {
   "cell_type": "markdown",
   "metadata": {},
   "source": [
    "## 4. Vorverarbeitung der Daten\n",
    "Was passiert hier:\n",
    "Die Spalte „Geschlecht“ im Datensatz ist ursprünglich kategorisch mit zwei möglichen Werten: „männlich“ und „weiblich“.\n",
    "Maschinelle Lernmodelle arbeiten im Allgemeinen mit numerischen Daten statt mit Zeichenfolgen oder Kategorien.\n",
    "Die Funktion .map() wird verwendet, um diese kategorischen Werte in numerische Werte umzuwandeln:\n",
    "„männlich“ wird auf 1 abgebildet.\n",
    "„weiblich“ wird auf 0 abgebildet.\n",
    "Warum wir das tun:\n",
    "Durch die Umwandlung kategorialer Werte in ein numerisches Format kann das maschinelle Lernmodell die Daten verarbeiten. In diesem Fall ist eine binäre Transformation (1 für männlich, 0 für weiblich) angemessen, da es nur zwei Kategorien für das Geschlecht gibt."
   ],
   "id": "3d20d5f7ea468b1"
  },
  {
   "cell_type": "code",
   "metadata": {
    "ExecuteTime": {
     "end_time": "2024-10-22T17:59:32.091750Z",
     "start_time": "2024-10-22T17:59:32.075613Z"
    }
   },
   "source": [
    "# Convert 'Sex' to numeric (1 = male, 0 = female)\n",
    "train_df['Sex'] = train_df['Sex'].map({'male': 1, 'female': 0})\n",
    "test_df['Sex'] = test_df['Sex'].map({'male': 1, 'female': 0})\n",
    "\n",
    "# One-hot encode 'Embarked' and 'Pclass'\n",
    "train_df = pd.get_dummies(train_df, columns=['Embarked', 'Pclass'], drop_first=True)\n",
    "test_df = pd.get_dummies(test_df, columns=['Embarked', 'Pclass'], drop_first=True)\n",
    "\n"
   ],
   "id": "6048b727e8685fa0",
   "outputs": [],
   "execution_count": 264
  },
  {
   "metadata": {},
   "cell_type": "markdown",
   "source": [
    "One-Hot-Encoding ist eine Technik, die kategorische Variablen in mehrere binäre Spalten umwandelt:\n",
    "Für jede eindeutige Kategorie wird eine neue Spalte mit 1 erstellt, wenn der Passagier zu dieser Kategorie gehört, und 0, wenn nicht.\n",
    "Wenn ein Passagier beispielsweise von „C“ (Cherbourg) aus eingeschifft ist, ist die Spalte „Embarked_C“ 1, während „Embarked_Q“ und „Embarked_S“ 0 sind.\n",
    "## 5. Trainieren des Modells\n",
    "Wir werden jetzt einen Random-Forest-Klassifikator erstellen, um das Überleben vorherzusagen.\n",
    "Wir entfernen die Spalten 'Survived', 'PassengerId', 'Name', 'Ticket', 'Cabin' aus den Tainingsdaten, die momentan nicht relevant sind\n"
   ],
   "id": "2af81adf05d22a48"
  },
  {
   "cell_type": "markdown",
   "metadata": {},
   "source": "",
   "id": "bf07b7fe6bf07a4d"
  },
  {
   "metadata": {
    "ExecuteTime": {
     "end_time": "2024-10-22T17:59:32.159858Z",
     "start_time": "2024-10-22T17:59:32.151817Z"
    }
   },
   "cell_type": "code",
   "source": [
    "from sklearn.model_selection import train_test_split\n",
    "from sklearn.ensemble import RandomForestClassifier\n",
    "from sklearn.metrics import accuracy_score"
   ],
   "id": "903c2c662fa7d6",
   "outputs": [],
   "execution_count": 265
  },
  {
   "cell_type": "code",
   "metadata": {
    "ExecuteTime": {
     "end_time": "2024-10-22T17:59:32.238192Z",
     "start_time": "2024-10-22T17:59:32.224927Z"
    }
   },
   "source": [
    "# Drop unnecessary columns from train and test datasets\n",
    "X = train_df.drop(columns=['Survived', 'PassengerId', 'Name', 'Ticket', 'Cabin'])\n",
    "y = train_df['Survived']\n",
    "\n",
    "test_features = test_df.drop(columns=['PassengerId', 'Name', 'Ticket', 'Cabin'])\n",
    "\n",
    "# Drop rows with missing values in the training data\n",
    "X_train_cleaned = X_train.dropna()\n",
    "y_train_cleaned = y_train.loc[X_train_cleaned.index]  # Ensure y_train matches the cleaned X_train\n",
    "\n",
    "# Drop rows with missing values in the validation data\n",
    "X_val_cleaned = X_val.dropna()\n",
    "y_val_cleaned = y_val.loc[X_val_cleaned.index]"
   ],
   "id": "b8b80472dd84ea2f",
   "outputs": [],
   "execution_count": 266
  },
  {
   "metadata": {},
   "cell_type": "markdown",
   "source": [
    "## 6.Train-test split\n",
    "\n",
    "Beim maschinellen Lernen ist es wichtig zu bewerten, wie gut ein Modell mit Daten funktioniert, die es noch nicht gesehen hat. Dazu teilen wir den Datensatz in zwei Teile auf:\n",
    "\n",
    "80 % Trainingsdaten: Dieser Teil der Daten wird zum Trainieren des Modells verwendet. Das Modell lernt Muster und Beziehungen aus diesen Daten.\n",
    "\n",
    "20 % Validierungsdaten: Dieser kleinere Teil wird separat gehalten, um die Leistung des Modells nach dem Training zu testen. Dies gibt uns eine Vorstellung davon, wie gut das Modell auf unbekannte Daten verallgemeinert werden kann."
   ],
   "id": "f7e715b8f7883375"
  },
  {
   "metadata": {
    "ExecuteTime": {
     "end_time": "2024-10-22T17:59:32.313154Z",
     "start_time": "2024-10-22T17:59:32.304418Z"
    }
   },
   "cell_type": "code",
   "source": [
    "# This specifies that 20% of the data should be used as the validation set, and 80% should be used as the training set.\n",
    "X_train, X_val, y_train, y_val = train_test_split(X, y, test_size=0.2, random_state=42)"
   ],
   "id": "fcc81ab620c7a2c",
   "outputs": [],
   "execution_count": 267
  },
  {
   "metadata": {},
   "cell_type": "markdown",
   "source": [
    "##  7.Train the Model\n",
    "Wir benutzen dafür die bereits gegebene Methoden von sklearn. Wichtige Methoden:\n",
    "1. #### fit(x, y) : x: training samples, y: Array of target values\n",
    "      Trainiert/baut das Random-Forest-Modell unter Verwendung der Eingabeproben X und der zugehörigen Labels y\n",
    "2. #### predict(x): x: training samples\n",
    "     Die Prädiktion\n",
    "        \n",
    "3. #### score(x,y): x: Test samples, y: True labels for the test samples.\n",
    "   Bewertet die Leistung des Modells durch Berechnung der mittleren Genauigkeit bei den Testdaten (x) und den true labels (y)\n",
    "   \n",
    "Bei genauere Beschreibeung: https://scikit-learn.org/stable/modules/generated/sklearn.ensemble.RandomForestClassifier.html#sklearn.ensemble.RandomForestClassifier.fit\n",
    "       \n"
   ],
   "id": "584212ae5c8a752b"
  },
  {
   "metadata": {
    "ExecuteTime": {
     "end_time": "2024-10-22T17:59:32.575699Z",
     "start_time": "2024-10-22T17:59:32.385289Z"
    }
   },
   "cell_type": "code",
   "source": [
    "# Train a Random Forest model\n",
    "model = RandomForestClassifier(n_estimators=100, random_state=42)\n",
    "model.fit(X_train, y_train)\n",
    "\n",
    "# train a KNN model\n",
    "knn_model = KNeighborsClassifier(n_neighbors=5)\n",
    "\n",
    "# Train the KNN model\n",
    "knn_model.fit(X_train_cleaned, y_train_cleaned)"
   ],
   "id": "2ef2722514151d86",
   "outputs": [
    {
     "data": {
      "text/plain": [
       "KNeighborsClassifier()"
      ],
      "text/html": [
       "<style>#sk-container-id-18 {\n",
       "  /* Definition of color scheme common for light and dark mode */\n",
       "  --sklearn-color-text: black;\n",
       "  --sklearn-color-line: gray;\n",
       "  /* Definition of color scheme for unfitted estimators */\n",
       "  --sklearn-color-unfitted-level-0: #fff5e6;\n",
       "  --sklearn-color-unfitted-level-1: #f6e4d2;\n",
       "  --sklearn-color-unfitted-level-2: #ffe0b3;\n",
       "  --sklearn-color-unfitted-level-3: chocolate;\n",
       "  /* Definition of color scheme for fitted estimators */\n",
       "  --sklearn-color-fitted-level-0: #f0f8ff;\n",
       "  --sklearn-color-fitted-level-1: #d4ebff;\n",
       "  --sklearn-color-fitted-level-2: #b3dbfd;\n",
       "  --sklearn-color-fitted-level-3: cornflowerblue;\n",
       "\n",
       "  /* Specific color for light theme */\n",
       "  --sklearn-color-text-on-default-background: var(--sg-text-color, var(--theme-code-foreground, var(--jp-content-font-color1, black)));\n",
       "  --sklearn-color-background: var(--sg-background-color, var(--theme-background, var(--jp-layout-color0, white)));\n",
       "  --sklearn-color-border-box: var(--sg-text-color, var(--theme-code-foreground, var(--jp-content-font-color1, black)));\n",
       "  --sklearn-color-icon: #696969;\n",
       "\n",
       "  @media (prefers-color-scheme: dark) {\n",
       "    /* Redefinition of color scheme for dark theme */\n",
       "    --sklearn-color-text-on-default-background: var(--sg-text-color, var(--theme-code-foreground, var(--jp-content-font-color1, white)));\n",
       "    --sklearn-color-background: var(--sg-background-color, var(--theme-background, var(--jp-layout-color0, #111)));\n",
       "    --sklearn-color-border-box: var(--sg-text-color, var(--theme-code-foreground, var(--jp-content-font-color1, white)));\n",
       "    --sklearn-color-icon: #878787;\n",
       "  }\n",
       "}\n",
       "\n",
       "#sk-container-id-18 {\n",
       "  color: var(--sklearn-color-text);\n",
       "}\n",
       "\n",
       "#sk-container-id-18 pre {\n",
       "  padding: 0;\n",
       "}\n",
       "\n",
       "#sk-container-id-18 input.sk-hidden--visually {\n",
       "  border: 0;\n",
       "  clip: rect(1px 1px 1px 1px);\n",
       "  clip: rect(1px, 1px, 1px, 1px);\n",
       "  height: 1px;\n",
       "  margin: -1px;\n",
       "  overflow: hidden;\n",
       "  padding: 0;\n",
       "  position: absolute;\n",
       "  width: 1px;\n",
       "}\n",
       "\n",
       "#sk-container-id-18 div.sk-dashed-wrapped {\n",
       "  border: 1px dashed var(--sklearn-color-line);\n",
       "  margin: 0 0.4em 0.5em 0.4em;\n",
       "  box-sizing: border-box;\n",
       "  padding-bottom: 0.4em;\n",
       "  background-color: var(--sklearn-color-background);\n",
       "}\n",
       "\n",
       "#sk-container-id-18 div.sk-container {\n",
       "  /* jupyter's `normalize.less` sets `[hidden] { display: none; }`\n",
       "     but bootstrap.min.css set `[hidden] { display: none !important; }`\n",
       "     so we also need the `!important` here to be able to override the\n",
       "     default hidden behavior on the sphinx rendered scikit-learn.org.\n",
       "     See: https://github.com/scikit-learn/scikit-learn/issues/21755 */\n",
       "  display: inline-block !important;\n",
       "  position: relative;\n",
       "}\n",
       "\n",
       "#sk-container-id-18 div.sk-text-repr-fallback {\n",
       "  display: none;\n",
       "}\n",
       "\n",
       "div.sk-parallel-item,\n",
       "div.sk-serial,\n",
       "div.sk-item {\n",
       "  /* draw centered vertical line to link estimators */\n",
       "  background-image: linear-gradient(var(--sklearn-color-text-on-default-background), var(--sklearn-color-text-on-default-background));\n",
       "  background-size: 2px 100%;\n",
       "  background-repeat: no-repeat;\n",
       "  background-position: center center;\n",
       "}\n",
       "\n",
       "/* Parallel-specific style estimator block */\n",
       "\n",
       "#sk-container-id-18 div.sk-parallel-item::after {\n",
       "  content: \"\";\n",
       "  width: 100%;\n",
       "  border-bottom: 2px solid var(--sklearn-color-text-on-default-background);\n",
       "  flex-grow: 1;\n",
       "}\n",
       "\n",
       "#sk-container-id-18 div.sk-parallel {\n",
       "  display: flex;\n",
       "  align-items: stretch;\n",
       "  justify-content: center;\n",
       "  background-color: var(--sklearn-color-background);\n",
       "  position: relative;\n",
       "}\n",
       "\n",
       "#sk-container-id-18 div.sk-parallel-item {\n",
       "  display: flex;\n",
       "  flex-direction: column;\n",
       "}\n",
       "\n",
       "#sk-container-id-18 div.sk-parallel-item:first-child::after {\n",
       "  align-self: flex-end;\n",
       "  width: 50%;\n",
       "}\n",
       "\n",
       "#sk-container-id-18 div.sk-parallel-item:last-child::after {\n",
       "  align-self: flex-start;\n",
       "  width: 50%;\n",
       "}\n",
       "\n",
       "#sk-container-id-18 div.sk-parallel-item:only-child::after {\n",
       "  width: 0;\n",
       "}\n",
       "\n",
       "/* Serial-specific style estimator block */\n",
       "\n",
       "#sk-container-id-18 div.sk-serial {\n",
       "  display: flex;\n",
       "  flex-direction: column;\n",
       "  align-items: center;\n",
       "  background-color: var(--sklearn-color-background);\n",
       "  padding-right: 1em;\n",
       "  padding-left: 1em;\n",
       "}\n",
       "\n",
       "\n",
       "/* Toggleable style: style used for estimator/Pipeline/ColumnTransformer box that is\n",
       "clickable and can be expanded/collapsed.\n",
       "- Pipeline and ColumnTransformer use this feature and define the default style\n",
       "- Estimators will overwrite some part of the style using the `sk-estimator` class\n",
       "*/\n",
       "\n",
       "/* Pipeline and ColumnTransformer style (default) */\n",
       "\n",
       "#sk-container-id-18 div.sk-toggleable {\n",
       "  /* Default theme specific background. It is overwritten whether we have a\n",
       "  specific estimator or a Pipeline/ColumnTransformer */\n",
       "  background-color: var(--sklearn-color-background);\n",
       "}\n",
       "\n",
       "/* Toggleable label */\n",
       "#sk-container-id-18 label.sk-toggleable__label {\n",
       "  cursor: pointer;\n",
       "  display: block;\n",
       "  width: 100%;\n",
       "  margin-bottom: 0;\n",
       "  padding: 0.5em;\n",
       "  box-sizing: border-box;\n",
       "  text-align: center;\n",
       "}\n",
       "\n",
       "#sk-container-id-18 label.sk-toggleable__label-arrow:before {\n",
       "  /* Arrow on the left of the label */\n",
       "  content: \"▸\";\n",
       "  float: left;\n",
       "  margin-right: 0.25em;\n",
       "  color: var(--sklearn-color-icon);\n",
       "}\n",
       "\n",
       "#sk-container-id-18 label.sk-toggleable__label-arrow:hover:before {\n",
       "  color: var(--sklearn-color-text);\n",
       "}\n",
       "\n",
       "/* Toggleable content - dropdown */\n",
       "\n",
       "#sk-container-id-18 div.sk-toggleable__content {\n",
       "  max-height: 0;\n",
       "  max-width: 0;\n",
       "  overflow: hidden;\n",
       "  text-align: left;\n",
       "  /* unfitted */\n",
       "  background-color: var(--sklearn-color-unfitted-level-0);\n",
       "}\n",
       "\n",
       "#sk-container-id-18 div.sk-toggleable__content.fitted {\n",
       "  /* fitted */\n",
       "  background-color: var(--sklearn-color-fitted-level-0);\n",
       "}\n",
       "\n",
       "#sk-container-id-18 div.sk-toggleable__content pre {\n",
       "  margin: 0.2em;\n",
       "  border-radius: 0.25em;\n",
       "  color: var(--sklearn-color-text);\n",
       "  /* unfitted */\n",
       "  background-color: var(--sklearn-color-unfitted-level-0);\n",
       "}\n",
       "\n",
       "#sk-container-id-18 div.sk-toggleable__content.fitted pre {\n",
       "  /* unfitted */\n",
       "  background-color: var(--sklearn-color-fitted-level-0);\n",
       "}\n",
       "\n",
       "#sk-container-id-18 input.sk-toggleable__control:checked~div.sk-toggleable__content {\n",
       "  /* Expand drop-down */\n",
       "  max-height: 200px;\n",
       "  max-width: 100%;\n",
       "  overflow: auto;\n",
       "}\n",
       "\n",
       "#sk-container-id-18 input.sk-toggleable__control:checked~label.sk-toggleable__label-arrow:before {\n",
       "  content: \"▾\";\n",
       "}\n",
       "\n",
       "/* Pipeline/ColumnTransformer-specific style */\n",
       "\n",
       "#sk-container-id-18 div.sk-label input.sk-toggleable__control:checked~label.sk-toggleable__label {\n",
       "  color: var(--sklearn-color-text);\n",
       "  background-color: var(--sklearn-color-unfitted-level-2);\n",
       "}\n",
       "\n",
       "#sk-container-id-18 div.sk-label.fitted input.sk-toggleable__control:checked~label.sk-toggleable__label {\n",
       "  background-color: var(--sklearn-color-fitted-level-2);\n",
       "}\n",
       "\n",
       "/* Estimator-specific style */\n",
       "\n",
       "/* Colorize estimator box */\n",
       "#sk-container-id-18 div.sk-estimator input.sk-toggleable__control:checked~label.sk-toggleable__label {\n",
       "  /* unfitted */\n",
       "  background-color: var(--sklearn-color-unfitted-level-2);\n",
       "}\n",
       "\n",
       "#sk-container-id-18 div.sk-estimator.fitted input.sk-toggleable__control:checked~label.sk-toggleable__label {\n",
       "  /* fitted */\n",
       "  background-color: var(--sklearn-color-fitted-level-2);\n",
       "}\n",
       "\n",
       "#sk-container-id-18 div.sk-label label.sk-toggleable__label,\n",
       "#sk-container-id-18 div.sk-label label {\n",
       "  /* The background is the default theme color */\n",
       "  color: var(--sklearn-color-text-on-default-background);\n",
       "}\n",
       "\n",
       "/* On hover, darken the color of the background */\n",
       "#sk-container-id-18 div.sk-label:hover label.sk-toggleable__label {\n",
       "  color: var(--sklearn-color-text);\n",
       "  background-color: var(--sklearn-color-unfitted-level-2);\n",
       "}\n",
       "\n",
       "/* Label box, darken color on hover, fitted */\n",
       "#sk-container-id-18 div.sk-label.fitted:hover label.sk-toggleable__label.fitted {\n",
       "  color: var(--sklearn-color-text);\n",
       "  background-color: var(--sklearn-color-fitted-level-2);\n",
       "}\n",
       "\n",
       "/* Estimator label */\n",
       "\n",
       "#sk-container-id-18 div.sk-label label {\n",
       "  font-family: monospace;\n",
       "  font-weight: bold;\n",
       "  display: inline-block;\n",
       "  line-height: 1.2em;\n",
       "}\n",
       "\n",
       "#sk-container-id-18 div.sk-label-container {\n",
       "  text-align: center;\n",
       "}\n",
       "\n",
       "/* Estimator-specific */\n",
       "#sk-container-id-18 div.sk-estimator {\n",
       "  font-family: monospace;\n",
       "  border: 1px dotted var(--sklearn-color-border-box);\n",
       "  border-radius: 0.25em;\n",
       "  box-sizing: border-box;\n",
       "  margin-bottom: 0.5em;\n",
       "  /* unfitted */\n",
       "  background-color: var(--sklearn-color-unfitted-level-0);\n",
       "}\n",
       "\n",
       "#sk-container-id-18 div.sk-estimator.fitted {\n",
       "  /* fitted */\n",
       "  background-color: var(--sklearn-color-fitted-level-0);\n",
       "}\n",
       "\n",
       "/* on hover */\n",
       "#sk-container-id-18 div.sk-estimator:hover {\n",
       "  /* unfitted */\n",
       "  background-color: var(--sklearn-color-unfitted-level-2);\n",
       "}\n",
       "\n",
       "#sk-container-id-18 div.sk-estimator.fitted:hover {\n",
       "  /* fitted */\n",
       "  background-color: var(--sklearn-color-fitted-level-2);\n",
       "}\n",
       "\n",
       "/* Specification for estimator info (e.g. \"i\" and \"?\") */\n",
       "\n",
       "/* Common style for \"i\" and \"?\" */\n",
       "\n",
       ".sk-estimator-doc-link,\n",
       "a:link.sk-estimator-doc-link,\n",
       "a:visited.sk-estimator-doc-link {\n",
       "  float: right;\n",
       "  font-size: smaller;\n",
       "  line-height: 1em;\n",
       "  font-family: monospace;\n",
       "  background-color: var(--sklearn-color-background);\n",
       "  border-radius: 1em;\n",
       "  height: 1em;\n",
       "  width: 1em;\n",
       "  text-decoration: none !important;\n",
       "  margin-left: 1ex;\n",
       "  /* unfitted */\n",
       "  border: var(--sklearn-color-unfitted-level-1) 1pt solid;\n",
       "  color: var(--sklearn-color-unfitted-level-1);\n",
       "}\n",
       "\n",
       ".sk-estimator-doc-link.fitted,\n",
       "a:link.sk-estimator-doc-link.fitted,\n",
       "a:visited.sk-estimator-doc-link.fitted {\n",
       "  /* fitted */\n",
       "  border: var(--sklearn-color-fitted-level-1) 1pt solid;\n",
       "  color: var(--sklearn-color-fitted-level-1);\n",
       "}\n",
       "\n",
       "/* On hover */\n",
       "div.sk-estimator:hover .sk-estimator-doc-link:hover,\n",
       ".sk-estimator-doc-link:hover,\n",
       "div.sk-label-container:hover .sk-estimator-doc-link:hover,\n",
       ".sk-estimator-doc-link:hover {\n",
       "  /* unfitted */\n",
       "  background-color: var(--sklearn-color-unfitted-level-3);\n",
       "  color: var(--sklearn-color-background);\n",
       "  text-decoration: none;\n",
       "}\n",
       "\n",
       "div.sk-estimator.fitted:hover .sk-estimator-doc-link.fitted:hover,\n",
       ".sk-estimator-doc-link.fitted:hover,\n",
       "div.sk-label-container:hover .sk-estimator-doc-link.fitted:hover,\n",
       ".sk-estimator-doc-link.fitted:hover {\n",
       "  /* fitted */\n",
       "  background-color: var(--sklearn-color-fitted-level-3);\n",
       "  color: var(--sklearn-color-background);\n",
       "  text-decoration: none;\n",
       "}\n",
       "\n",
       "/* Span, style for the box shown on hovering the info icon */\n",
       ".sk-estimator-doc-link span {\n",
       "  display: none;\n",
       "  z-index: 9999;\n",
       "  position: relative;\n",
       "  font-weight: normal;\n",
       "  right: .2ex;\n",
       "  padding: .5ex;\n",
       "  margin: .5ex;\n",
       "  width: min-content;\n",
       "  min-width: 20ex;\n",
       "  max-width: 50ex;\n",
       "  color: var(--sklearn-color-text);\n",
       "  box-shadow: 2pt 2pt 4pt #999;\n",
       "  /* unfitted */\n",
       "  background: var(--sklearn-color-unfitted-level-0);\n",
       "  border: .5pt solid var(--sklearn-color-unfitted-level-3);\n",
       "}\n",
       "\n",
       ".sk-estimator-doc-link.fitted span {\n",
       "  /* fitted */\n",
       "  background: var(--sklearn-color-fitted-level-0);\n",
       "  border: var(--sklearn-color-fitted-level-3);\n",
       "}\n",
       "\n",
       ".sk-estimator-doc-link:hover span {\n",
       "  display: block;\n",
       "}\n",
       "\n",
       "/* \"?\"-specific style due to the `<a>` HTML tag */\n",
       "\n",
       "#sk-container-id-18 a.estimator_doc_link {\n",
       "  float: right;\n",
       "  font-size: 1rem;\n",
       "  line-height: 1em;\n",
       "  font-family: monospace;\n",
       "  background-color: var(--sklearn-color-background);\n",
       "  border-radius: 1rem;\n",
       "  height: 1rem;\n",
       "  width: 1rem;\n",
       "  text-decoration: none;\n",
       "  /* unfitted */\n",
       "  color: var(--sklearn-color-unfitted-level-1);\n",
       "  border: var(--sklearn-color-unfitted-level-1) 1pt solid;\n",
       "}\n",
       "\n",
       "#sk-container-id-18 a.estimator_doc_link.fitted {\n",
       "  /* fitted */\n",
       "  border: var(--sklearn-color-fitted-level-1) 1pt solid;\n",
       "  color: var(--sklearn-color-fitted-level-1);\n",
       "}\n",
       "\n",
       "/* On hover */\n",
       "#sk-container-id-18 a.estimator_doc_link:hover {\n",
       "  /* unfitted */\n",
       "  background-color: var(--sklearn-color-unfitted-level-3);\n",
       "  color: var(--sklearn-color-background);\n",
       "  text-decoration: none;\n",
       "}\n",
       "\n",
       "#sk-container-id-18 a.estimator_doc_link.fitted:hover {\n",
       "  /* fitted */\n",
       "  background-color: var(--sklearn-color-fitted-level-3);\n",
       "}\n",
       "</style><div id=\"sk-container-id-18\" class=\"sk-top-container\"><div class=\"sk-text-repr-fallback\"><pre>KNeighborsClassifier()</pre><b>In a Jupyter environment, please rerun this cell to show the HTML representation or trust the notebook. <br />On GitHub, the HTML representation is unable to render, please try loading this page with nbviewer.org.</b></div><div class=\"sk-container\" hidden><div class=\"sk-item\"><div class=\"sk-estimator fitted sk-toggleable\"><input class=\"sk-toggleable__control sk-hidden--visually\" id=\"sk-estimator-id-18\" type=\"checkbox\" checked><label for=\"sk-estimator-id-18\" class=\"sk-toggleable__label fitted sk-toggleable__label-arrow fitted\">&nbsp;&nbsp;KNeighborsClassifier<a class=\"sk-estimator-doc-link fitted\" rel=\"noreferrer\" target=\"_blank\" href=\"https://scikit-learn.org/1.5/modules/generated/sklearn.neighbors.KNeighborsClassifier.html\">?<span>Documentation for KNeighborsClassifier</span></a><span class=\"sk-estimator-doc-link fitted\">i<span>Fitted</span></span></label><div class=\"sk-toggleable__content fitted\"><pre>KNeighborsClassifier()</pre></div> </div></div></div></div>"
      ]
     },
     "execution_count": 268,
     "metadata": {},
     "output_type": "execute_result"
    }
   ],
   "execution_count": 268
  },
  {
   "metadata": {},
   "cell_type": "markdown",
   "source": "## 8. Eine Prädiktion  treffen",
   "id": "6a64b0ee4dd12bdb"
  },
  {
   "metadata": {
    "ExecuteTime": {
     "end_time": "2024-10-22T17:59:32.776216Z",
     "start_time": "2024-10-22T17:59:32.744240Z"
    }
   },
   "cell_type": "code",
   "source": [
    "# Make predictions on the validation set\n",
    "y_pred = model.predict(X_val)\n",
    "\n",
    "y_pred_knn = knn_model.predict(X_val_cleaned)\n"
   ],
   "id": "4b854cd72925e5a5",
   "outputs": [],
   "execution_count": 269
  },
  {
   "metadata": {},
   "cell_type": "markdown",
   "source": "## 9. Bewerten des Modells anhand der Validierungsdaten",
   "id": "22a6281e17e0be09"
  },
  {
   "metadata": {
    "ExecuteTime": {
     "end_time": "2024-10-22T17:59:32.882833Z",
     "start_time": "2024-10-22T17:59:32.872376Z"
    }
   },
   "cell_type": "code",
   "source": [
    "# Evaluate the model\n",
    "accuracy = accuracy_score(y_val, y_pred)\n",
    "print(f'Validation Accuracy: {accuracy:.2f}')\n",
    "\n",
    "# Evaluate the model\n",
    "accuracy_knn = accuracy_score(y_val_cleaned, y_pred_knn)\n",
    "print(f'KNN Validation Accuracy: {accuracy_knn:.2f}')"
   ],
   "id": "15b54b163f08b8ed",
   "outputs": [
    {
     "name": "stdout",
     "output_type": "stream",
     "text": [
      "Validation Accuracy: 0.82\n",
      "KNN Validation Accuracy: 0.67\n"
     ]
    }
   ],
   "execution_count": 270
  },
  {
   "metadata": {},
   "cell_type": "markdown",
   "source": [
    "Warum ist diese Evaluation nicht ganz aussagekräftig sein könnte, wenn wir die methode \"accuracy_score\" benutzten   ?\n",
    "---> wenn man nur nullen prädizieret wurde man auf undgefähr 80% accurcy kommen"
   ],
   "id": "a11aca73a7afa400"
  },
  {
   "cell_type": "markdown",
   "metadata": {},
   "source": [
    "## 10. Pridäktion auf Testdaten\n",
    "Nun testen wir das model mit unseren unbekannten Testdaten. Dafür speichern wir die Ergebnisse als csv-Datei unter \"titanic_submission.csv\""
   ],
   "id": "df5bcbbbd52d45a2"
  },
  {
   "cell_type": "code",
   "metadata": {
    "ExecuteTime": {
     "end_time": "2024-10-22T17:59:33.005520Z",
     "start_time": "2024-10-22T17:59:32.975062Z"
    }
   },
   "source": [
    "test_predictions = model.predict(test_features)\n",
    "\n",
    "# Prepare the submission file\n",
    "submission = pd.DataFrame({\n",
    "    'PassengerId': test_df['PassengerId'],\n",
    "    'Survived': test_predictions\n",
    "})\n",
    "\n",
    "# Save the submission file\n",
    "submission.to_csv('titanic_submission.csv', index=False)\n"
   ],
   "id": "1af733c3b6c2f1eb",
   "outputs": [],
   "execution_count": 271
  },
  {
   "cell_type": "markdown",
   "metadata": {},
   "source": [
    "## 11. Schlussfolgerung\n",
    "In diesem Notebook haben wir den Prozess des Datenladens, der Erkundung, der Vorverarbeitung und des Modelltrainings anhand des Titanic-Datensatzes durchlaufen. Wir haben einen Random-Forest-Klassifikator zur Vorhersage der Überlebensrate trainiert, und Sie können dieses Modell weiter verbessern, indem Sie mit anderen Algorithmen, Feature-Engineering und Hyperparameter-Abstimmung experimentieren."
   ],
   "id": "6e5b8e369d9af83"
  },
  {
   "metadata": {},
   "cell_type": "markdown",
   "source": "",
   "id": "46b76b98165d95a5"
  },
  {
   "metadata": {},
   "cell_type": "markdown",
   "source": [
    "## 12. Mögliche bessere Evaluation (AUC-ROC):\n",
    "Die ROC-Kurve (Receiver Operating Characteristic) ist ein Diagramm, das veranschaulicht, wie gut ein Klassifizierungsmodell zwischen zwei Klassen unterscheidet. Es stellt die wahre Positivenrate (True Positive Rate, TPR) gegen die Falsch-Positivenrate (False Positive Rate, FPR) dar. Diese Evaluationsmethode bietet eine genauere Einschätzung der Modellleistung und hilft zu erkennen, ob das Modell zufällige Vorhersagen trifft oder tatsächlich sinnvoll zwischen den Klassen unterscheidet"
   ],
   "id": "d31d8043caecbe86"
  },
  {
   "metadata": {
    "ExecuteTime": {
     "end_time": "2024-10-22T17:59:33.335988Z",
     "start_time": "2024-10-22T17:59:33.097859Z"
    }
   },
   "cell_type": "code",
   "source": [
    "from sklearn.metrics import roc_auc_score, roc_curve\n",
    "import matplotlib.pyplot as plt\n",
    "\n",
    "# Get the predicted probabilities for the validation set\n",
    "y_val_probs = model.predict_proba(X_val)[:, 1]  # Probability estimates for the positive class (survived)\n",
    "\n",
    "# Compute ROC curve and AUC score\n",
    "fpr, tpr, thresholds = roc_curve(y_val, y_val_probs)\n",
    "auc_score = roc_auc_score(y_val, y_val_probs)\n",
    "\n",
    "plt.figure(figsize=(8,6))\n",
    "plt.plot(fpr, tpr, color='blue', label=f'AUC = {auc_score:.2f}')\n",
    "plt.plot([0, 1], [0, 1], color='red', linestyle='--')  # Diagonal line (random guess)\n",
    "plt.xlabel('False Positive Rate')\n",
    "plt.ylabel('True Positive Rate')\n",
    "plt.title('Receiver Operating Characteristic (ROC) Curve')\n",
    "plt.legend(loc=\"lower right\")\n",
    "plt.show()"
   ],
   "id": "abe7b70b80378535",
   "outputs": [
    {
     "data": {
      "text/plain": [
       "<Figure size 800x600 with 1 Axes>"
      ],
      "image/png": "[encoded data removed]"
     },
     "metadata": {},
     "output_type": "display_data"
    }
   ],
   "execution_count": 272
  },
  {
   "metadata": {},
   "cell_type": "markdown",
   "source": [
    "Der AUC-Wert gibt an, wie gut das Modell zwischen den Klassen unterscheidet (in diesem Fall überlebt oder nicht überlebt).\n",
    " Ein perfekter Klassifikator hat einen AUC von 1, während ein zufälliger Klassifikator einen AUC von 0,5 hat."
   ],
   "id": "f5b96e304f6ab62c"
  },
  {
   "metadata": {},
   "cell_type": "markdown",
   "source": "Quellen:\n",
   "id": "435863ce9b138c2e"
  }
 ],
 "metadata": {
  "kernelspec": {
   "display_name": "Python 3",
   "language": "python",
   "name": "python3"
  },
  "language_info": {
   "name": "python",
   "version": "3.8.5"
  }
 },
 "nbformat": 4,
 "nbformat_minor": 5
}
