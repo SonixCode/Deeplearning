{
 "cells": [
  {
   "cell_type": "markdown",
   "metadata": {},
   "source": [
    "# Titanic Survival Prediction\n",
    "This notebook demonstrates a basic introduction to Machine Learning using the Titanic dataset. We will load the data, perform some exploratory data analysis, preprocess the data, and finally train a simple machine learning model to predict survival on the Titanic."
   ],
   "id": "f6a4f2823f266820"
  },
  {
   "cell_type": "markdown",
   "metadata": {},
   "source": [
    "## 1. Importing Libraries\n",
    "We start by importing the necessary Python libraries.\n",
    "You can copy the command: \n",
    "\n",
    "\n",
    "\n",
    "1.  pip install pandas\n",
    "2.  pip install matplotlib\n",
    "3.  pip install seaborn\n",
    "4.  pip install scikit-learn"
   ],
   "id": "a037d3f6a56fb59"
  },
  {
   "cell_type": "code",
   "metadata": {
    "ExecuteTime": {
     "end_time": "2024-10-15T08:03:43.140402Z",
     "start_time": "2024-10-15T08:03:43.127941Z"
    }
   },
   "source": [
    "import pandas as pd\n",
    "import numpy as np\n",
    "import matplotlib.pyplot as plt\n",
    "import seaborn as sns\n",
    "\n"
   ],
   "id": "cea8e300124649b4",
   "outputs": [],
   "execution_count": 33
  },
  {
   "cell_type": "markdown",
   "metadata": {},
   "source": [
    "## 2. Loading the Data\n",
    "We load both the training and test data from CSV files using pandas."
   ],
   "id": "551b3399f3fb710"
  },
  {
   "cell_type": "code",
   "metadata": {
    "ExecuteTime": {
     "end_time": "2024-10-15T08:03:43.203781Z",
     "start_time": "2024-10-15T08:03:43.159581Z"
    }
   },
   "source": [
    "# Load the datasets\n",
    "train_df = pd.read_csv('Data/train.csv')\n",
    "test_df = pd.read_csv('Data/test.csv')\n",
    "\n",
    "train_df.head()"
   ],
   "id": "58e774c2bafff59",
   "outputs": [
    {
     "data": {
      "text/plain": [
       "   PassengerId  Survived  Pclass  \\\n",
       "0            1         0       3   \n",
       "1            2         1       1   \n",
       "2            3         1       3   \n",
       "3            4         1       1   \n",
       "4            5         0       3   \n",
       "\n",
       "                                                Name     Sex   Age  SibSp  \\\n",
       "0                            Braund, Mr. Owen Harris    male  22.0      1   \n",
       "1  Cumings, Mrs. John Bradley (Florence Briggs Th...  female  38.0      1   \n",
       "2                             Heikkinen, Miss. Laina  female  26.0      0   \n",
       "3       Futrelle, Mrs. Jacques Heath (Lily May Peel)  female  35.0      1   \n",
       "4                           Allen, Mr. William Henry    male  35.0      0   \n",
       "\n",
       "   Parch            Ticket     Fare Cabin Embarked  \n",
       "0      0         A/5 21171   7.2500   NaN        S  \n",
       "1      0          PC 17599  71.2833   C85        C  \n",
       "2      0  STON/O2. 3101282   7.9250   NaN        S  \n",
       "3      0            113803  53.1000  C123        S  \n",
       "4      0            373450   8.0500   NaN        S  "
      ],
      "text/html": [
       "<div>\n",
       "<style scoped>\n",
       "    .dataframe tbody tr th:only-of-type {\n",
       "        vertical-align: middle;\n",
       "    }\n",
       "\n",
       "    .dataframe tbody tr th {\n",
       "        vertical-align: top;\n",
       "    }\n",
       "\n",
       "    .dataframe thead th {\n",
       "        text-align: right;\n",
       "    }\n",
       "</style>\n",
       "<table border=\"1\" class=\"dataframe\">\n",
       "  <thead>\n",
       "    <tr style=\"text-align: right;\">\n",
       "      <th></th>\n",
       "      <th>PassengerId</th>\n",
       "      <th>Survived</th>\n",
       "      <th>Pclass</th>\n",
       "      <th>Name</th>\n",
       "      <th>Sex</th>\n",
       "      <th>Age</th>\n",
       "      <th>SibSp</th>\n",
       "      <th>Parch</th>\n",
       "      <th>Ticket</th>\n",
       "      <th>Fare</th>\n",
       "      <th>Cabin</th>\n",
       "      <th>Embarked</th>\n",
       "    </tr>\n",
       "  </thead>\n",
       "  <tbody>\n",
       "    <tr>\n",
       "      <th>0</th>\n",
       "      <td>1</td>\n",
       "      <td>0</td>\n",
       "      <td>3</td>\n",
       "      <td>Braund, Mr. Owen Harris</td>\n",
       "      <td>male</td>\n",
       "      <td>22.0</td>\n",
       "      <td>1</td>\n",
       "      <td>0</td>\n",
       "      <td>A/5 21171</td>\n",
       "      <td>7.2500</td>\n",
       "      <td>NaN</td>\n",
       "      <td>S</td>\n",
       "    </tr>\n",
       "    <tr>\n",
       "      <th>1</th>\n",
       "      <td>2</td>\n",
       "      <td>1</td>\n",
       "      <td>1</td>\n",
       "      <td>Cumings, Mrs. John Bradley (Florence Briggs Th...</td>\n",
       "      <td>female</td>\n",
       "      <td>38.0</td>\n",
       "      <td>1</td>\n",
       "      <td>0</td>\n",
       "      <td>PC 17599</td>\n",
       "      <td>71.2833</td>\n",
       "      <td>C85</td>\n",
       "      <td>C</td>\n",
       "    </tr>\n",
       "    <tr>\n",
       "      <th>2</th>\n",
       "      <td>3</td>\n",
       "      <td>1</td>\n",
       "      <td>3</td>\n",
       "      <td>Heikkinen, Miss. Laina</td>\n",
       "      <td>female</td>\n",
       "      <td>26.0</td>\n",
       "      <td>0</td>\n",
       "      <td>0</td>\n",
       "      <td>STON/O2. 3101282</td>\n",
       "      <td>7.9250</td>\n",
       "      <td>NaN</td>\n",
       "      <td>S</td>\n",
       "    </tr>\n",
       "    <tr>\n",
       "      <th>3</th>\n",
       "      <td>4</td>\n",
       "      <td>1</td>\n",
       "      <td>1</td>\n",
       "      <td>Futrelle, Mrs. Jacques Heath (Lily May Peel)</td>\n",
       "      <td>female</td>\n",
       "      <td>35.0</td>\n",
       "      <td>1</td>\n",
       "      <td>0</td>\n",
       "      <td>113803</td>\n",
       "      <td>53.1000</td>\n",
       "      <td>C123</td>\n",
       "      <td>S</td>\n",
       "    </tr>\n",
       "    <tr>\n",
       "      <th>4</th>\n",
       "      <td>5</td>\n",
       "      <td>0</td>\n",
       "      <td>3</td>\n",
       "      <td>Allen, Mr. William Henry</td>\n",
       "      <td>male</td>\n",
       "      <td>35.0</td>\n",
       "      <td>0</td>\n",
       "      <td>0</td>\n",
       "      <td>373450</td>\n",
       "      <td>8.0500</td>\n",
       "      <td>NaN</td>\n",
       "      <td>S</td>\n",
       "    </tr>\n",
       "  </tbody>\n",
       "</table>\n",
       "</div>"
      ]
     },
     "execution_count": 34,
     "metadata": {},
     "output_type": "execute_result"
    }
   ],
   "execution_count": 34
  },
  {
   "cell_type": "markdown",
   "metadata": {},
   "source": [
    "## 3. Exploratory Data Analysis (EDA)\n",
    "Before building any model, we will explore the dataset to understand its structure."
   ],
   "id": "57dcd790739e0dd2"
  },
  {
   "cell_type": "code",
   "metadata": {
    "ExecuteTime": {
     "end_time": "2024-10-15T08:03:43.480666Z",
     "start_time": "2024-10-15T08:03:43.313830Z"
    }
   },
   "source": [
    "# Visualize survival counts\n",
    "sns.countplot(x='Survived', data=train_df)\n",
    "plt.title('Survival Count')\n",
    "plt.show()"
   ],
   "id": "58b2ca3c30ee571c",
   "outputs": [
    {
     "data": {
      "text/plain": [
       "<Figure size 640x480 with 1 Axes>"
      ],
      "image/png": "[encoded data removed]"
     },
     "metadata": {},
     "output_type": "display_data"
    }
   ],
   "execution_count": 35
  },
  {
   "cell_type": "code",
   "metadata": {
    "ExecuteTime": {
     "end_time": "2024-10-15T08:03:43.957534Z",
     "start_time": "2024-10-15T08:03:43.551826Z"
    }
   },
   "source": [
    "# Visualize survival by gender\n",
    "sns.catplot(x='Sex', hue='Survived', kind='count', data=train_df)\n",
    "plt.title('Survival by Gender')\n",
    "plt.show()"
   ],
   "id": "277d72cd89c2e88",
   "outputs": [
    {
     "data": {
      "text/plain": [
       "<Figure size 572.111x500 with 1 Axes>"
      ],
      "image/png": "[encoded data removed]"
     },
     "metadata": {},
     "output_type": "display_data"
    }
   ],
   "execution_count": 36
  },
  {
   "cell_type": "code",
   "metadata": {
    "ExecuteTime": {
     "end_time": "2024-10-15T08:03:44.314340Z",
     "start_time": "2024-10-15T08:03:43.968551Z"
    }
   },
   "source": [
    "# Visualize survival by passenger class\n",
    "sns.catplot(x='Pclass', hue='Survived', kind='count', data=train_df)\n",
    "plt.title('Survival by Passenger Class')\n",
    "plt.show()"
   ],
   "id": "c8ab5a087cf083ee",
   "outputs": [
    {
     "data": {
      "text/plain": [
       "<Figure size 572.111x500 with 1 Axes>"
      ],
      "image/png": "[encoded data removed]"
     },
     "metadata": {},
     "output_type": "display_data"
    }
   ],
   "execution_count": 37
  },
  {
   "cell_type": "markdown",
   "metadata": {},
   "source": [
    "## 4. Data Preprocessing\n",
    "We will proceed with encoding categorical variables.\n",
    "What’s happening here:\n",
    "The 'Sex' column in the dataset is originally categorical with two possible values: 'male' and 'female'.\n",
    "Machine learning models generally work with numerical data rather than strings or categories.\n",
    "The .map() function is used to convert these categorical values to numeric values:\n",
    "'male' is mapped to 1.\n",
    "'female' is mapped to 0.\n",
    "Why we do this:\n",
    "Converting categorical values to numerical format allows the machine learning model to process the data. In this case, a binary transformation (1 for male, 0 for female) is appropriate since there are only two categories for gender."
   ],
   "id": "3d20d5f7ea468b1"
  },
  {
   "cell_type": "code",
   "metadata": {
    "ExecuteTime": {
     "end_time": "2024-10-15T08:03:44.382192Z",
     "start_time": "2024-10-15T08:03:44.363607Z"
    }
   },
   "source": [
    "# Convert 'Sex' to numeric (1 = male, 0 = female)\n",
    "train_df['Sex'] = train_df['Sex'].map({'male': 1, 'female': 0})\n",
    "test_df['Sex'] = test_df['Sex'].map({'male': 1, 'female': 0})\n",
    "\n",
    "# One-hot encode 'Embarked' and 'Pclass'\n",
    "train_df = pd.get_dummies(train_df, columns=['Embarked', 'Pclass'], drop_first=True)\n",
    "test_df = pd.get_dummies(test_df, columns=['Embarked', 'Pclass'], drop_first=True)\n",
    "\n"
   ],
   "id": "6048b727e8685fa0",
   "outputs": [],
   "execution_count": 38
  },
  {
   "metadata": {},
   "cell_type": "markdown",
   "source": [
    "One-hot encoding is a technique that converts categorical variables into multiple binary columns:\n",
    "For each unique category, a new column is created with 1 if the passenger belongs to that category, and 0 otherwise.\n",
    "For example, if a passenger embarked from 'C' (Cherbourg), the 'Embarked_C' column will be 1, while 'Embarked_Q' and 'Embarked_S' will be 0"
   ],
   "id": "2af81adf05d22a48"
  },
  {
   "cell_type": "markdown",
   "metadata": {},
   "source": [
    "## 5. Training the Model\n",
    "We will now build a Random Forest classifier to predict survival."
   ],
   "id": "bf07b7fe6bf07a4d"
  },
  {
   "metadata": {},
   "cell_type": "code",
   "outputs": [],
   "execution_count": null,
   "source": [
    "from sklearn.model_selection import train_test_split\n",
    "from sklearn.ensemble import RandomForestClassifier\n",
    "from sklearn.metrics import accuracy_score"
   ],
   "id": "903c2c662fa7d6"
  },
  {
   "cell_type": "code",
   "metadata": {
    "ExecuteTime": {
     "end_time": "2024-10-15T08:03:44.700526Z",
     "start_time": "2024-10-15T08:03:44.449140Z"
    }
   },
   "source": [
    "# Drop unnecessary columns from train and test datasets\n",
    "X = train_df.drop(columns=['Survived', 'PassengerId', 'Name', 'Ticket', 'Cabin'])\n",
    "y = train_df['Survived']\n",
    "\n",
    "test_features = test_df.drop(columns=['PassengerId', 'Name', 'Ticket', 'Cabin'])\n",
    "\n",
    "# Train-test split for validation test_size=0.2: \n",
    "# This specifies that 20% of the data should be used as the validation set, and 80% should be used as the training set.\n",
    "X_train, X_val, y_train, y_val = train_test_split(X, y, test_size=0.2, random_state=42)\n",
    "\n",
    "# Train a Random Forest model\n",
    "model = RandomForestClassifier(n_estimators=100, random_state=42)\n",
    "model.fit(X_train, y_train)\n",
    "\n",
    "# Make predictions on the validation set\n",
    "y_pred = model.predict(X_val)\n",
    "roc_auc_score \n",
    "\n",
    "# Evaluate the model\n",
    "accuracy = accuracy_score(y_val, y_pred)\n",
    "print(f'Validation Accuracy: {accuracy:.2f}')\n"
   ],
   "id": "b8b80472dd84ea2f",
   "outputs": [
    {
     "name": "stdout",
     "output_type": "stream",
     "text": [
      "Validation Accuracy: 0.82\n"
     ]
    }
   ],
   "execution_count": 39
  },
  {
   "cell_type": "markdown",
   "metadata": {},
   "source": [
    "## 6. Making Predictions for the Test Set\n",
    "Finally, we will use the trained model to make predictions on the test set."
   ],
   "id": "df5bcbbbd52d45a2"
  },
  {
   "cell_type": "code",
   "metadata": {
    "ExecuteTime": {
     "end_time": "2024-10-15T08:03:58.083015Z",
     "start_time": "2024-10-15T08:03:58.055880Z"
    }
   },
   "source": [
    "test_predictions = model.predict(test_features)\n",
    "\n",
    "# Prepare the submission file\n",
    "submission = pd.DataFrame({\n",
    "    'PassengerId': test_df['PassengerId'],\n",
    "    'Survived': test_predictions\n",
    "})\n",
    "\n",
    "# Save the submission file\n",
    "submission.to_csv('titanic_submission.csv', index=False)\n"
   ],
   "id": "1af733c3b6c2f1eb",
   "outputs": [],
   "execution_count": 41
  },
  {
   "cell_type": "markdown",
   "metadata": {},
   "source": [
    "## 7. Conclusion\n",
    "In this notebook, we walked through the process of data loading, exploration, preprocessing, and model training using the Titanic dataset. We trained a Random Forest classifier to predict survival, and you can further improve this model by experimenting with other algorithms, feature engineering, and hyperparameter tuning."
   ],
   "id": "6e5b8e369d9af83"
  },
  {
   "metadata": {},
   "cell_type": "markdown",
   "source": "",
   "id": "46b76b98165d95a5"
  },
  {
   "metadata": {},
   "cell_type": "markdown",
   "source": "",
   "id": "d31d8043caecbe86"
  },
  {
   "metadata": {},
   "cell_type": "code",
   "outputs": [],
   "execution_count": null,
   "source": "",
   "id": "7eda31b4dfc41d41"
  },
  {
   "metadata": {},
   "cell_type": "markdown",
   "source": "Quellen:\n",
   "id": "435863ce9b138c2e"
  }
 ],
 "metadata": {
  "kernelspec": {
   "display_name": "Python 3",
   "language": "python",
   "name": "python3"
  },
  "language_info": {
   "name": "python",
   "version": "3.8.5"
  }
 },
 "nbformat": 4,
 "nbformat_minor": 5
}
